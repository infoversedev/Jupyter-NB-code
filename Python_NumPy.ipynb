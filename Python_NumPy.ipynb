{
 "cells": [
  {
   "cell_type": "code",
   "execution_count": null,
   "metadata": {},
   "outputs": [],
   "source": [
    "#NumPy is a Python library for scientific computing.\n",
    "#All elements in a NumPy array should be of the same type to allow mathematical operations.\n",
    "\n",
    "#NumPy arrays are faster and more compact than Python lists."
   ]
  },
  {
   "cell_type": "code",
   "execution_count": 1,
   "metadata": {},
   "outputs": [],
   "source": [
    "import numpy as np"
   ]
  },
  {
   "cell_type": "code",
   "execution_count": 7,
   "metadata": {},
   "outputs": [
    {
     "name": "stdout",
     "output_type": "stream",
     "text": [
      "[5 6 7 8]\n"
     ]
    }
   ],
   "source": [
    "#a1 = np.array([1, 2, 3, 4, 5, 6]) # an array with some numbers\n",
    "#print(a1[4]) # accessing the 3rd element of the array, note index starts from 0\n",
    "a2 = np.array([[1, 2, 3, 4], [5, 6, 7, 8], [9, 10, 11, 12]])\n",
    "print(a2[1]) # access the 3rd element of the array"
   ]
  },
  {
   "cell_type": "code",
   "execution_count": 12,
   "metadata": {},
   "outputs": [],
   "source": [
    "One2Ten = np.arange(11) # creates an array with numbers from 0 to 9"
   ]
  },
  {
   "cell_type": "code",
   "execution_count": 13,
   "metadata": {},
   "outputs": [
    {
     "data": {
      "text/plain": [
       "array([ 0,  1,  2,  3,  4,  5,  6,  7,  8,  9, 10])"
      ]
     },
     "execution_count": 13,
     "metadata": {},
     "output_type": "execute_result"
    }
   ],
   "source": [
    "#print(One2Ten.shape) # shows array is rank 1 (one-dimensional)\n",
    "One2Ten"
   ]
  },
  {
   "cell_type": "code",
   "execution_count": 14,
   "metadata": {},
   "outputs": [],
   "source": [
    "One2TenwithStep = np.arange(0,10,1.5) # create an array with step of 1.5"
   ]
  },
  {
   "cell_type": "code",
   "execution_count": 15,
   "metadata": {},
   "outputs": [
    {
     "name": "stdout",
     "output_type": "stream",
     "text": [
      "[0.  1.5 3.  4.5 6.  7.5 9. ]\n"
     ]
    }
   ],
   "source": [
    "print(One2TenwithStep) # print to confirm"
   ]
  },
  {
   "cell_type": "code",
   "execution_count": 17,
   "metadata": {},
   "outputs": [
    {
     "name": "stdout",
     "output_type": "stream",
     "text": [
      "[0. 0. 0. 0. 0. 0. 0. 0. 0. 0.]\n"
     ]
    }
   ],
   "source": [
    "AllZeros = np.zeros(10) # create an array with all zeroes \n",
    "print(AllZeros)\n",
    "#AllOnes = np.ones(10) # create an array with all ones\n",
    "#print(AllOnes)"
   ]
  },
  {
   "cell_type": "code",
   "execution_count": 19,
   "metadata": {},
   "outputs": [
    {
     "name": "stdout",
     "output_type": "stream",
     "text": [
      "[[0. 0.]\n",
      " [0. 0.]\n",
      " [0. 0.]\n",
      " [0. 0.]\n",
      " [0. 0.]\n",
      " [0. 0.]\n",
      " [0. 0.]\n",
      " [0. 0.]\n",
      " [0. 0.]\n",
      " [0. 0.]]\n"
     ]
    }
   ],
   "source": [
    "AllZerosRank2 = np.zeros((10,2)) # create a rank 2 array with all zeroes\n",
    "print(AllZerosRank2)"
   ]
  },
  {
   "cell_type": "code",
   "execution_count": 22,
   "metadata": {},
   "outputs": [
    {
     "data": {
      "text/plain": [
       "8"
      ]
     },
     "execution_count": 22,
     "metadata": {},
     "output_type": "execute_result"
    }
   ],
   "source": [
    "#arrRan = np.random.random((2,4)) # 2D array with random values between 0.0 and 1.0\n",
    "#print(arrRan)\n",
    "arrRan.size # find the total number of elements in the array"
   ]
  },
  {
   "cell_type": "code",
   "execution_count": 24,
   "metadata": {},
   "outputs": [
    {
     "name": "stdout",
     "output_type": "stream",
     "text": [
      "[8 7 6 5 4]\n"
     ]
    }
   ],
   "source": [
    "list1 = [8,7,6,5,4] # Create a NumPy array from a Python list\n",
    "r1 = np.array(list1)\n",
    "print(r1)"
   ]
  },
  {
   "cell_type": "code",
   "execution_count": 29,
   "metadata": {},
   "outputs": [
    {
     "name": "stdout",
     "output_type": "stream",
     "text": [
      "[ 0  2  4  6  8 10 12 14 16 18]\n"
     ]
    }
   ],
   "source": [
    "nums = np.arange(20) # examples showing how to select only odd even numbers from a numPy array\n",
    "#print(nums)\n",
    "#odd_nums = nums[nums % 2 == 1]\n",
    "#print(odd_nums)\n",
    "even_nums = nums[nums % 2 == 0]\n",
    "print(even_nums)"
   ]
  },
  {
   "cell_type": "code",
   "execution_count": 35,
   "metadata": {},
   "outputs": [
    {
     "name": "stdout",
     "output_type": "stream",
     "text": [
      "[[ 0  1  2  3]\n",
      " [ 4  5  6  7]\n",
      " [ 8  9 10 11]\n",
      " [12 13 14 15]]\n"
     ]
    }
   ],
   "source": [
    "#Changing an array from 1D to 2D\n",
    "\n",
    "one = np.arange(16) # creates an array with 16 elements\n",
    "two = np.reshape(one, (4,4)) # reshapes into a 4x4 array\n",
    "#2D_array82 = np.reshape(1D_array, (8,2)) # reshapes into a 8x2 array\n",
    "print(two)\n",
    "#print(2D_array82)"
   ]
  },
  {
   "cell_type": "code",
   "execution_count": 40,
   "metadata": {},
   "outputs": [
    {
     "name": "stdout",
     "output_type": "stream",
     "text": [
      "[[3 4 5]\n",
      " [6 7 8]]\n"
     ]
    }
   ],
   "source": [
    "#Slicing arrays\n",
    "\n",
    "new_array = np.arange(15) # creates an array with 15 elements\n",
    "newer = np.reshape(new_array, (5,3)) # reshape to a 5x3 array\n",
    "#print(newer)\n",
    "sliced = newer[1:3,:3]\n",
    "print(sliced)"
   ]
  },
  {
   "cell_type": "code",
   "execution_count": 43,
   "metadata": {},
   "outputs": [
    {
     "name": "stdout",
     "output_type": "stream",
     "text": [
      "[24 25 26 27 28 29 30 31 32 33]\n",
      "[16 17 18 19 20 21 22 23 24 25]\n",
      "[1.5        1.47058824 1.44444444 1.42105263 1.4        1.38095238\n",
      " 1.36363636 1.34782609 1.33333333 1.32      ]\n"
     ]
    }
   ],
   "source": [
    "#NumPy Array math additon\n",
    "\n",
    "x1 = np.arange(24,34)\n",
    "y1 = np.arange(16,26)\n",
    "print(x1)\n",
    "print(y1)\n",
    "#print(x1+y1) # add array elements\n",
    "#np.add(x1+y1) # another way to add array elements\n",
    "\n",
    "#print(x1-y1) # another way to subtract array elements \n",
    "#np.subtract(x1,y1)\n",
    "\n",
    "#print(x1*y1) # multiply array elements\n",
    "#np.multiply(x1,y1) # another way to multiply array elements\n",
    "\n",
    "print(x1 / y1) # divide array elements\n",
    "#np.divide(x1,y1) #another way to divide array elements\n"
   ]
  },
  {
   "cell_type": "code",
   "execution_count": 45,
   "metadata": {},
   "outputs": [
    {
     "name": "stdout",
     "output_type": "stream",
     "text": [
      "[10 11 12 13 14 15 16 17 18 19 20]\n"
     ]
    }
   ],
   "source": [
    "# Finding unique numbers in an array\n",
    "\n",
    "duplicates = np.array([10, 11, 12, 13, 14, 15, 16, 17, 12, 13, 11, 14, 18, 19, 20, 10])\n",
    "uniq_vals = np.unique(duplicates)\n",
    "print(uniq_vals)"
   ]
  },
  {
   "cell_type": "code",
   "execution_count": 50,
   "metadata": {},
   "outputs": [
    {
     "name": "stdout",
     "output_type": "stream",
     "text": [
      "[1 0 4 2 3]\n"
     ]
    }
   ],
   "source": [
    "#Sorting numPy arrays\n",
    "\n",
    "#numbers = np.array([56,98,4,31,16])\n",
    "#numbers.sort()\n",
    "#print(numbers) # numbers correctly sorted\n",
    "\n",
    "prices = np.array([5.5,3.7,21.9,45.0,7.8])\n",
    "print(prices.argsort()) # sort the array based on array index \n",
    "\n",
    "# The resulting output [1 0 4 2 3] shows the smallest (3.7) is in 2nd location of array, similarly next largest number (5.5)\n",
    "# is in the first location and so on, very powerful when sorting across multiple arrays. "
   ]
  },
  {
   "cell_type": "code",
   "execution_count": null,
   "metadata": {},
   "outputs": [],
   "source": []
  }
 ],
 "metadata": {
  "kernelspec": {
   "display_name": "Python 3",
   "language": "python",
   "name": "python3"
  },
  "language_info": {
   "codemirror_mode": {
    "name": "ipython",
    "version": 3
   },
   "file_extension": ".py",
   "mimetype": "text/x-python",
   "name": "python",
   "nbconvert_exporter": "python",
   "pygments_lexer": "ipython3",
   "version": "3.7.4"
  }
 },
 "nbformat": 4,
 "nbformat_minor": 2
}
